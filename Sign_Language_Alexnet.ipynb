{
  "nbformat": 4,
  "nbformat_minor": 0,
  "metadata": {
    "colab": {
      "name": "Sign Language - Alexnet.ipynb",
      "provenance": [],
      "toc_visible": true,
      "authorship_tag": "ABX9TyPExTFT+tCVVsV1ZkODCfG5",
      "include_colab_link": true
    },
    "kernelspec": {
      "name": "python3",
      "display_name": "Python 3"
    },
    "accelerator": "GPU"
  },
  "cells": [
    {
      "cell_type": "markdown",
      "metadata": {
        "id": "view-in-github",
        "colab_type": "text"
      },
      "source": [
        "<a href=\"https://colab.research.google.com/github/naot97/kaggle/blob/master/Sign_Language_Alexnet.ipynb\" target=\"_parent\"><img src=\"https://colab.research.google.com/assets/colab-badge.svg\" alt=\"Open In Colab\"/></a>"
      ]
    },
    {
      "cell_type": "code",
      "metadata": {
        "id": "xKUc2E-JrMJ3",
        "colab_type": "code",
        "colab": {}
      },
      "source": [
        "import pandas as pd\n",
        "import numpy as np\n",
        "import matplotlib.pyplot as plt\n",
        "import matplotlib.image as mpimg\n",
        "import seaborn as sns\n",
        "\n",
        "\n",
        "np.random.seed(2)\n",
        "\n",
        "from sklearn.model_selection import train_test_split\n",
        "from sklearn.metrics import confusion_matrix\n",
        "import itertools\n",
        "\n",
        "from keras.utils.np_utils import to_categorical # convert to one-hot-encoding\n",
        "from keras.models import Sequential\n",
        "from keras.layers import Dense, Dropout, Flatten, Conv2D, MaxPool2D\n",
        "from keras.optimizers import RMSprop\n",
        "from keras.preprocessing.image import ImageDataGenerator\n",
        "from keras.callbacks import ReduceLROnPlateau"
      ],
      "execution_count": 0,
      "outputs": []
    },
    {
      "cell_type": "code",
      "metadata": {
        "id": "QSYVEztUQ0rO",
        "colab_type": "code",
        "outputId": "a59b2de8-86b4-4027-d74e-bd33b5644d09",
        "colab": {
          "base_uri": "https://localhost:8080/",
          "height": 34
        }
      },
      "source": [
        "from google.colab import drive\n",
        "drive.mount('/content/drive')"
      ],
      "execution_count": 0,
      "outputs": [
        {
          "output_type": "stream",
          "text": [
            "Drive already mounted at /content/drive; to attempt to forcibly remount, call drive.mount(\"/content/drive\", force_remount=True).\n"
          ],
          "name": "stdout"
        }
      ]
    },
    {
      "cell_type": "code",
      "metadata": {
        "id": "a_eeJpjBRprp",
        "colab_type": "code",
        "colab": {}
      },
      "source": [
        "train = pd.read_csv(\"/content/drive/My Drive/sign-language-mnist/sign_mnist_train.csv\")\n",
        "test = pd.read_csv(\"/content/drive/My Drive/sign-language-mnist/sign_mnist_test.csv\")"
      ],
      "execution_count": 0,
      "outputs": []
    },
    {
      "cell_type": "code",
      "metadata": {
        "id": "GtsGQuQNSKOZ",
        "colab_type": "code",
        "outputId": "9aa46028-eafd-428b-9a21-d240f1d9db04",
        "colab": {
          "base_uri": "https://localhost:8080/",
          "height": 51
        }
      },
      "source": [
        "labels = train['label']\n",
        "\n",
        "input = train.drop(labels=['label'],axis=1)\n",
        "print(input.shape)\n",
        "\n",
        "labels_test = test['label']\n",
        "input_test  = test.drop(labels=['label'],axis=1)\n",
        "print(input_test.shape)"
      ],
      "execution_count": 0,
      "outputs": [
        {
          "output_type": "stream",
          "text": [
            "(27455, 784)\n",
            "(7172, 784)\n"
          ],
          "name": "stdout"
        }
      ]
    },
    {
      "cell_type": "code",
      "metadata": {
        "id": "NWkGO-ioSyCO",
        "colab_type": "code",
        "outputId": "317a6c0b-2f00-41be-c919-daec8521a7de",
        "colab": {
          "base_uri": "https://localhost:8080/",
          "height": 704
        }
      },
      "source": [
        "g = sns.countplot(labels)\n",
        "labels.value_counts()"
      ],
      "execution_count": 0,
      "outputs": [
        {
          "output_type": "execute_result",
          "data": {
            "text/plain": [
              "17    1294\n",
              "16    1279\n",
              "11    1241\n",
              "22    1225\n",
              "5     1204\n",
              "18    1199\n",
              "14    1196\n",
              "3     1196\n",
              "19    1186\n",
              "23    1164\n",
              "8     1162\n",
              "20    1161\n",
              "13    1151\n",
              "2     1144\n",
              "0     1126\n",
              "24    1118\n",
              "10    1114\n",
              "6     1090\n",
              "15    1088\n",
              "21    1082\n",
              "12    1055\n",
              "7     1013\n",
              "1     1010\n",
              "4      957\n",
              "Name: label, dtype: int64"
            ]
          },
          "metadata": {
            "tags": []
          },
          "execution_count": 149
        },
        {
          "output_type": "display_data",
          "data": {
            "image/png": "[encoded data removed]",
            "text/plain": [
              "<Figure size 432x288 with 1 Axes>"
            ]
          },
          "metadata": {
            "tags": []
          }
        }
      ]
    },
    {
      "cell_type": "code",
      "metadata": {
        "id": "keouSKmsTKkv",
        "colab_type": "code",
        "outputId": "e884c062-014f-445a-cbbe-72c9c8d253e3",
        "colab": {
          "base_uri": "https://localhost:8080/",
          "height": 221
        }
      },
      "source": [
        "#\n",
        "input = input/ 255.0\n",
        "\n",
        "input = input.values.reshape((-1,28,28,1))\n",
        "#input_test = input_test.values.reshape((-1,28,28,1))\n",
        "\n",
        "print(labels)\n",
        "labels = to_categorical(labels,num_classes = 25)\n",
        "\n"
      ],
      "execution_count": 0,
      "outputs": [
        {
          "output_type": "stream",
          "text": [
            "0         3\n",
            "1         6\n",
            "2         2\n",
            "3         2\n",
            "4        13\n",
            "         ..\n",
            "27450    13\n",
            "27451    23\n",
            "27452    18\n",
            "27453    17\n",
            "27454    23\n",
            "Name: label, Length: 27455, dtype: int64\n"
          ],
          "name": "stdout"
        }
      ]
    },
    {
      "cell_type": "code",
      "metadata": {
        "id": "aj5rsIlSWv_t",
        "colab_type": "code",
        "colab": {}
      },
      "source": [
        ""
      ],
      "execution_count": 0,
      "outputs": []
    },
    {
      "cell_type": "code",
      "metadata": {
        "id": "qqcR7FGE3LeF",
        "colab_type": "code",
        "colab": {}
      },
      "source": [
        "def append_element(list, list2):\n",
        "  for element in list2:\n",
        "    list.append(element)\n",
        "\n",
        "  return list"
      ],
      "execution_count": 0,
      "outputs": []
    },
    {
      "cell_type": "code",
      "metadata": {
        "id": "O4J7TiX6XF-I",
        "colab_type": "code",
        "outputId": "3b313af1-dbca-47bb-b9b3-b4423d3aa774",
        "colab": {
          "base_uri": "https://localhost:8080/",
          "height": 34
        }
      },
      "source": [
        "l = np.array(labels)\n",
        "\n",
        "X_train = []\n",
        "Y_train = []\n",
        "X_val = []\n",
        "Y_val = []\n",
        "for i in range(25):\n",
        "  index = [j for j in range(len(labels)) if labels[j,i] == 1]\n",
        "  n = len(index)\n",
        "  if n > 10:\n",
        "    x_train = input[index]\n",
        "    y_train = labels[index]\n",
        "\n",
        "    x_train, x_val, y_train, y_val = train_test_split(x_train,y_train,test_size=0.1,random_state = 3)\n",
        "\n",
        "    X_train = append_element(X_train, x_train)\n",
        "    Y_train = append_element(Y_train,y_train)\n",
        "    X_val = append_element(X_val, x_val)\n",
        "    Y_val = append_element(Y_val, y_val)\n",
        "\n",
        "X_train = np.array(X_train)\n",
        "Y_train = np.array(Y_train)\n",
        "X_val = np.array(X_val)\n",
        "Y_val = np.array(Y_val)\n",
        "\n",
        "print(X_train.shape)"
      ],
      "execution_count": 0,
      "outputs": [
        {
          "output_type": "stream",
          "text": [
            "(24698, 28, 28, 1)\n"
          ],
          "name": "stdout"
        }
      ]
    },
    {
      "cell_type": "code",
      "metadata": {
        "id": "2wP9V_9LdSrH",
        "colab_type": "code",
        "outputId": "21b0304c-d45e-4731-dbc0-067d9b920ecf",
        "colab": {
          "base_uri": "https://localhost:8080/",
          "height": 731
        }
      },
      "source": [
        "from keras.layers.normalization import BatchNormalization\n",
        "\n",
        "\n",
        "model = Sequential()\n",
        "model.add(Conv2D(filters=96,kernel_size=(5,5),padding='valid',activation='relu',strides=(2,2),input_shape = (28,28,1)))\n",
        "model.add(MaxPool2D(pool_size=(3,3), strides=(1,1), padding='valid'))\n",
        "model.add(BatchNormalization())\n",
        "\n",
        "model.add(Conv2D(filters=256,kernel_size=(3,3),padding='valid',activation='relu',strides=(1,1)))\n",
        "model.add(MaxPool2D(pool_size=(3,3), strides=(1,1), padding='valid'))\n",
        "model.add(BatchNormalization())\n",
        "\n",
        "model.add(Conv2D(filters=256,kernel_size=(3,3),padding='valid',activation='relu',strides=(1,1)))\n",
        "model.add(MaxPool2D(pool_size=(3,3), strides=(1,1), padding='valid'))\n",
        "model.add(BatchNormalization())\n",
        "\n",
        "model.add(Flatten())\n",
        "\n",
        "model.add(Dense(4096, activation = \"relu\"))\n",
        "model.add(Dropout(0.2))\n",
        "model.add(BatchNormalization())\n",
        "\n",
        "model.add(Dense(4096, activation = \"relu\"))      \n",
        "model.add(Dropout(0.2))\n",
        "model.add(BatchNormalization())\n",
        "\n",
        "model.add(Dense(25, activation = \"softmax\"))\n",
        "model.build()\n",
        "model.summary()\n"
      ],
      "execution_count": 0,
      "outputs": [
        {
          "output_type": "stream",
          "text": [
            "Model: \"sequential_20\"\n",
            "_________________________________________________________________\n",
            "Layer (type)                 Output Shape              Param #   \n",
            "=================================================================\n",
            "conv2d_57 (Conv2D)           (None, 12, 12, 96)        2496      \n",
            "_________________________________________________________________\n",
            "max_pooling2d_44 (MaxPooling (None, 10, 10, 96)        0         \n",
            "_________________________________________________________________\n",
            "batch_normalization_73 (Batc (None, 10, 10, 96)        384       \n",
            "_________________________________________________________________\n",
            "conv2d_58 (Conv2D)           (None, 8, 8, 256)         221440    \n",
            "_________________________________________________________________\n",
            "max_pooling2d_45 (MaxPooling (None, 6, 6, 256)         0         \n",
            "_________________________________________________________________\n",
            "batch_normalization_74 (Batc (None, 6, 6, 256)         1024      \n",
            "_________________________________________________________________\n",
            "conv2d_59 (Conv2D)           (None, 4, 4, 256)         590080    \n",
            "_________________________________________________________________\n",
            "max_pooling2d_46 (MaxPooling (None, 2, 2, 256)         0         \n",
            "_________________________________________________________________\n",
            "batch_normalization_75 (Batc (None, 2, 2, 256)         1024      \n",
            "_________________________________________________________________\n",
            "flatten_14 (Flatten)         (None, 1024)              0         \n",
            "_________________________________________________________________\n",
            "dense_47 (Dense)             (None, 4096)              4198400   \n",
            "_________________________________________________________________\n",
            "dropout_34 (Dropout)         (None, 4096)              0         \n",
            "_________________________________________________________________\n",
            "batch_normalization_76 (Batc (None, 4096)              16384     \n",
            "_________________________________________________________________\n",
            "dense_48 (Dense)             (None, 4096)              16781312  \n",
            "_________________________________________________________________\n",
            "dropout_35 (Dropout)         (None, 4096)              0         \n",
            "_________________________________________________________________\n",
            "batch_normalization_77 (Batc (None, 4096)              16384     \n",
            "_________________________________________________________________\n",
            "dense_49 (Dense)             (None, 25)                102425    \n",
            "=================================================================\n",
            "Total params: 21,931,353\n",
            "Trainable params: 21,913,753\n",
            "Non-trainable params: 17,600\n",
            "_________________________________________________________________\n"
          ],
          "name": "stdout"
        }
      ]
    },
    {
      "cell_type": "code",
      "metadata": {
        "id": "DnIDi6om-dAr",
        "colab_type": "code",
        "colab": {}
      },
      "source": [
        "optimizer = RMSprop(lr=0.0001, rho=0.9, epsilon=1e-08, decay=0.0)\n",
        "model.compile(optimizer = optimizer , loss = \"categorical_crossentropy\", metrics=[\"accuracy\"])\n"
      ],
      "execution_count": 0,
      "outputs": []
    },
    {
      "cell_type": "code",
      "metadata": {
        "id": "6PKD2oYe-6y7",
        "colab_type": "code",
        "colab": {}
      },
      "source": [
        "learning_rate_reduction = ReduceLROnPlateau(monitor='val_acc', \n",
        "                                            patience=3, \n",
        "                                            verbose=1, \n",
        "                                            factor=0.1, \n",
        "                                            min_lr=0.000001)\n",
        "epochs = 20 # Turn epochs to 30 to get 0.9967 accuracy\n",
        "batch_size = 256"
      ],
      "execution_count": 0,
      "outputs": []
    },
    {
      "cell_type": "code",
      "metadata": {
        "id": "uySC5b0JFa9U",
        "colab_type": "code",
        "outputId": "22d2a523-7d79-4117-9d38-470b8f710bf4",
        "colab": {
          "base_uri": "https://localhost:8080/",
          "height": 51
        }
      },
      "source": [
        "# With data augmentation to prevent overfitting (accuracy 0.99286)\n",
        "print(X_train.shape)\n",
        "datagen = ImageDataGenerator(\n",
        "        featurewise_center=False,  # set input mean to 0 over the dataset\n",
        "        samplewise_center=False,  # set each sample mean to 0\n",
        "        featurewise_std_normalization=False,  # divide inputs by std of the dataset\n",
        "        samplewise_std_normalization=False,  # divide each input by its std\n",
        "        zca_whitening=False,  # apply ZCA whitening\n",
        "        rotation_range=10,  # randomly rotate images in the range (degrees, 0 to 180)\n",
        "        zoom_range = 0.1, # Randomly zoom image \n",
        "        width_shift_range=0.1,  # randomly shift images horizontally (fraction of total width)\n",
        "        height_shift_range=0.1,  # randomly shift images vertically (fraction of total height)\n",
        "        horizontal_flip=False,  # randomly flip images\n",
        "        vertical_flip=False)  # randomly flip images\n",
        "\n",
        "\n",
        "datagen.fit(X_train)\n",
        "\n",
        "print(X_train.shape)"
      ],
      "execution_count": 0,
      "outputs": [
        {
          "output_type": "stream",
          "text": [
            "(24698, 28, 28, 1)\n",
            "(24698, 28, 28, 1)\n"
          ],
          "name": "stdout"
        }
      ]
    },
    {
      "cell_type": "code",
      "metadata": {
        "id": "LwP3qioJFhLn",
        "colab_type": "code",
        "outputId": "3366070f-8429-44c7-b2ee-ebbef253d2b6",
        "colab": {
          "base_uri": "https://localhost:8080/",
          "height": 765
        }
      },
      "source": [
        "\n",
        "history = model.fit_generator(datagen.flow(X_train,Y_train, batch_size=batch_size),\n",
        "                              epochs = epochs, validation_data = (X_val,Y_val),\n",
        "                              verbose = 2, steps_per_epoch=X_train.shape[0] // batch_size\n",
        "                              , callbacks=[learning_rate_reduction])\n"
      ],
      "execution_count": 0,
      "outputs": [
        {
          "output_type": "stream",
          "text": [
            "Epoch 1/20\n",
            " - 9s - loss: 0.6858 - acc: 0.7927 - val_loss: 0.1694 - val_acc: 0.9402\n",
            "Epoch 2/20\n",
            " - 6s - loss: 0.1473 - acc: 0.9513 - val_loss: 0.0303 - val_acc: 0.9891\n",
            "Epoch 3/20\n",
            " - 6s - loss: 0.0835 - acc: 0.9739 - val_loss: 0.0205 - val_acc: 0.9920\n",
            "Epoch 4/20\n",
            " - 6s - loss: 0.0617 - acc: 0.9813 - val_loss: 0.0061 - val_acc: 0.9982\n",
            "Epoch 5/20\n",
            " - 6s - loss: 0.0437 - acc: 0.9872 - val_loss: 0.0058 - val_acc: 0.9975\n",
            "Epoch 6/20\n",
            " - 6s - loss: 0.0364 - acc: 0.9883 - val_loss: 0.0016 - val_acc: 0.9996\n",
            "Epoch 7/20\n",
            " - 6s - loss: 0.0252 - acc: 0.9923 - val_loss: 0.0126 - val_acc: 0.9956\n",
            "Epoch 8/20\n",
            " - 6s - loss: 0.0272 - acc: 0.9919 - val_loss: 0.0278 - val_acc: 0.9913\n",
            "Epoch 9/20\n",
            " - 6s - loss: 0.0262 - acc: 0.9921 - val_loss: 0.0039 - val_acc: 0.9989\n",
            "\n",
            "Epoch 00009: ReduceLROnPlateau reducing learning rate to 9.999999747378752e-06.\n",
            "Epoch 10/20\n",
            " - 6s - loss: 0.0070 - acc: 0.9975 - val_loss: 3.4546e-05 - val_acc: 1.0000\n",
            "Epoch 11/20\n",
            " - 6s - loss: 0.0029 - acc: 0.9992 - val_loss: 1.4239e-05 - val_acc: 1.0000\n",
            "Epoch 12/20\n",
            " - 6s - loss: 0.0019 - acc: 0.9994 - val_loss: 1.6184e-05 - val_acc: 1.0000\n",
            "Epoch 13/20\n",
            " - 6s - loss: 0.0019 - acc: 0.9994 - val_loss: 1.2787e-05 - val_acc: 1.0000\n",
            "\n",
            "Epoch 00013: ReduceLROnPlateau reducing learning rate to 1e-06.\n",
            "Epoch 14/20\n",
            " - 6s - loss: 0.0015 - acc: 0.9995 - val_loss: 9.0297e-06 - val_acc: 1.0000\n",
            "Epoch 15/20\n",
            " - 6s - loss: 0.0015 - acc: 0.9994 - val_loss: 8.7455e-06 - val_acc: 1.0000\n",
            "Epoch 16/20\n",
            " - 6s - loss: 0.0013 - acc: 0.9996 - val_loss: 8.6364e-06 - val_acc: 1.0000\n",
            "Epoch 17/20\n",
            " - 6s - loss: 0.0018 - acc: 0.9996 - val_loss: 8.4183e-06 - val_acc: 1.0000\n",
            "Epoch 18/20\n",
            " - 6s - loss: 0.0015 - acc: 0.9996 - val_loss: 8.1123e-06 - val_acc: 1.0000\n",
            "Epoch 19/20\n",
            " - 6s - loss: 0.0014 - acc: 0.9996 - val_loss: 7.8195e-06 - val_acc: 1.0000\n",
            "Epoch 20/20\n",
            " - 6s - loss: 0.0010 - acc: 0.9998 - val_loss: 8.2102e-06 - val_acc: 1.0000\n"
          ],
          "name": "stdout"
        }
      ]
    },
    {
      "cell_type": "code",
      "metadata": {
        "id": "T1aVQnqHXWxc",
        "colab_type": "code",
        "outputId": "81b171cd-69bf-468c-f46b-934d556b7379",
        "colab": {
          "base_uri": "https://localhost:8080/",
          "height": 533
        }
      },
      "source": [
        "plt.figure(figsize=(15,8))\n",
        "plt.plot(history.history['acc'])\n",
        "plt.plot(history.history['val_acc'])\n",
        "plt.title(\"Accuracy\",fontsize=28)\n",
        "plt.xlabel('epoch',fontsize=18)\n",
        "plt.ylabel('accuracy',fontsize=18)\n",
        "plt.legend(['Train','Val'],fontsize=18)\n",
        "plt.show()"
      ],
      "execution_count": 0,
      "outputs": [
        {
          "output_type": "display_data",
          "data": {
            "image/png": "[encoded data removed]",
            "text/plain": [
              "<Figure size 1080x576 with 1 Axes>"
            ]
          },
          "metadata": {
            "tags": []
          }
        }
      ]
    },
    {
      "cell_type": "code",
      "metadata": {
        "id": "_0gza0L8Z5Y-",
        "colab_type": "code",
        "colab": {}
      },
      "source": [
        "input_test = input_test/255\n",
        "input_test = input_test.values.reshape((-1,28,28,1))\n",
        "\n",
        "y = to_categorical(labels_test, num_classes = 25)\n"
      ],
      "execution_count": 0,
      "outputs": []
    },
    {
      "cell_type": "code",
      "metadata": {
        "id": "cspNGclBaDmu",
        "colab_type": "code",
        "outputId": "db63c141-393b-41c0-c69d-f10d71ee9173",
        "colab": {
          "base_uri": "https://localhost:8080/",
          "height": 34
        }
      },
      "source": [
        "from sklearn.metrics import accuracy_score\n",
        "y_pred = model.predict(input_test)\n",
        "accuracy_score(y, y_pred.round())\n"
      ],
      "execution_count": 0,
      "outputs": [
        {
          "output_type": "execute_result",
          "data": {
            "text/plain": [
              "0.9998605688789738"
            ]
          },
          "metadata": {
            "tags": []
          },
          "execution_count": 160
        }
      ]
    }
  ]
}